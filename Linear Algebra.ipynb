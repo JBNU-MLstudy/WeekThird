{
 "cells": [
  {
   "cell_type": "code",
   "execution_count": 2,
   "metadata": {},
   "outputs": [],
   "source": [
    "import os\n",
    "import numpy as np"
   ]
  },
  {
   "cell_type": "code",
   "execution_count": 3,
   "metadata": {},
   "outputs": [
    {
     "name": "stdout",
     "output_type": "stream",
     "text": [
      "[10, 14, 18]\n"
     ]
    }
   ],
   "source": [
    "# vector operation \n",
    "u = [1,2,3]\n",
    "v = [4,5,6]\n",
    "s = 2\n",
    "o = [s*sum(z) for z in zip(u,v)]\n",
    "print(o)"
   ]
  },
  {
   "cell_type": "code",
   "execution_count": 14,
   "metadata": {},
   "outputs": [
    {
     "name": "stdout",
     "output_type": "stream",
     "text": [
      "[[10, 10, 10], [10, 10, 10], [10, 10, 10]]\n",
      "[[3, 6, 9], [12, 15, 18], [21, 24, 27]]\n",
      "[[1, 4, 7], [2, 5, 8], [3, 6, 9]]\n",
      "[[30, 24, 18], [84, 69, 54], [138, 114, 90]]\n"
     ]
    }
   ],
   "source": [
    "# matrix operation\n",
    "# additional\n",
    "m_A = [[1,2,3],[4,5,6],[7,8,9]]\n",
    "m_B = [[9,8,7],[6,5,4],[3,2,1]]\n",
    "\n",
    "def m_add(A,B):\n",
    "    re = [[sum(row) for row in zip(*t)]\n",
    "                for t in zip(A,B)]\n",
    "    return re\n",
    "print(m_add(m_A,m_B))\n",
    "\n",
    "# scalar matrix product\n",
    "def m_scalar(s,A):\n",
    "    re = [[s*element for element in t] \n",
    "                  for t in A]\n",
    "    return re\n",
    "print(m_scalar(3,m_A))\n",
    "\n",
    "# transpose \n",
    "def m_transpose(A):\n",
    "    re = [[element for element in t]\n",
    "                for t in zip(*A)]\n",
    "    return re \n",
    "print(m_transpose(m_A))\n",
    "\n",
    "# matrix product\n",
    "def m_product(A,B):\n",
    "    re = [[sum(A*B for A,B in zip(r_A,c_B))\n",
    "                  for c_B in zip(*B)]\n",
    "                 for r_A in A]\n",
    "    return re\n",
    "print(m_product(m_A,m_B))"
   ]
  },
  {
   "cell_type": "markdown",
   "metadata": {},
   "source": [
    "위에서 언급한 스칼라곱과 행렬연산은 스터디때 잠깐 설명해드리겠습니다"
   ]
  }
 ],
 "metadata": {
  "kernelspec": {
   "display_name": "Python 3",
   "language": "python",
   "name": "python3"
  },
  "language_info": {
   "codemirror_mode": {
    "name": "ipython",
    "version": 3
   },
   "file_extension": ".py",
   "mimetype": "text/x-python",
   "name": "python",
   "nbconvert_exporter": "python",
   "pygments_lexer": "ipython3",
   "version": "3.7.7"
  }
 },
 "nbformat": 4,
 "nbformat_minor": 4
}
