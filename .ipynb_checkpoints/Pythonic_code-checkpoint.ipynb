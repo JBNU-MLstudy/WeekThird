{
 "cells": [
  {
   "cell_type": "markdown",
   "metadata": {},
   "source": [
    "## pythonic code 정리"
   ]
  },
  {
   "cell_type": "code",
   "execution_count": 2,
   "metadata": {},
   "outputs": [],
   "source": [
    "import os\n",
    "import numpy as np"
   ]
  },
  {
   "cell_type": "markdown",
   "metadata": {},
   "source": [
    "### Split and join"
   ]
  },
  {
   "cell_type": "code",
   "execution_count": 9,
   "metadata": {},
   "outputs": [
    {
     "name": "stdout",
     "output_type": "stream",
     "text": [
      "['python', 'django', 'tensorflow']\n"
     ]
    }
   ],
   "source": [
    "# split는 기준에 의해 나누는 것\n",
    "# .split(기준)\n",
    "ex = 'python,django,tensorflow'\n",
    "print(ex.split(','))"
   ]
  },
  {
   "cell_type": "code",
   "execution_count": 10,
   "metadata": {
    "scrolled": true
   },
   "outputs": [
    {
     "name": "stdout",
     "output_type": "stream",
     "text": [
      "python\n",
      "\n",
      "django\n",
      "\n",
      "tensorflow\n",
      "\n",
      "python django tensorflow\n"
     ]
    }
   ],
   "source": [
    "# unpacking \n",
    "p,d,t = ex.split(',')\n",
    "print(\"{}\\n\".format(p))\n",
    "print(\"{}\\n\".format(d))\n",
    "print(\"{}\\n\".format(t))\n",
    "print(p,d,t)"
   ]
  },
  {
   "cell_type": "code",
   "execution_count": 4,
   "metadata": {},
   "outputs": [
    {
     "name": "stdout",
     "output_type": "stream",
     "text": [
      "기사토익스터디\n",
      "기사,토익,스터디\n"
     ]
    }
   ],
   "source": [
    "# join함수 \n",
    "# split와 비슷함 지정한 기준으로 합치는 것\n",
    "li = ['기사', '토익','스터디']\n",
    "jo_1 = ''.join(li)\n",
    "print(jo_1)\n",
    "jo_2 = ','.join(li)\n",
    "print(jo_2)"
   ]
  },
  {
   "cell_type": "markdown",
   "metadata": {},
   "source": [
    "### List comprehension\n",
    "- 기존 list를 사용하여 간단히 다른 리스트를 만듦\n",
    "- 포괄적 list, 포함되는 리스트라는 의미로 사용됨 \n",
    "-  python에서 가장 많이 사용되는 기법 중 하나\n",
    "- 일반적으로 for+append 보다 속도가 빠름\n",
    "> append()는 리스트 맨 마지막에 지정한 값(괄호 안의 값)을 덧붙히는 것"
   ]
  },
  {
   "cell_type": "code",
   "execution_count": 14,
   "metadata": {},
   "outputs": [
    {
     "name": "stdout",
     "output_type": "stream",
     "text": [
      "[0, 1, 2, 3, 4, 5, 6, 7, 8, 9]\n",
      "[0, 1, 2, 3, 4, 5, 6, 7, 8, 9]\n",
      "[0, 2, 4, 6, 8]\n",
      "[0, 2, 4, 6, 8]\n"
     ]
    }
   ],
   "source": [
    "result = []\n",
    "for i in range(10):\n",
    "    result.append(i)\n",
    "print(result)\n",
    "\n",
    "# 위 로직을 list comprehension 해주면\n",
    "re_1 = [r for r in range(10)]\n",
    "print(re_1)\n",
    "\n",
    "re_2 = [e for e in range(10) if e % 2 == 0]\n",
    "print(re_2)\n",
    "\n",
    "re_3 = []\n",
    "for t in range(10):\n",
    "    if t%2==0:\n",
    "        re_3.append(t)\n",
    "print(re_3)"
   ]
  },
  {
   "cell_type": "code",
   "execution_count": 25,
   "metadata": {},
   "outputs": [
    {
     "name": "stdout",
     "output_type": "stream",
     "text": [
      "['안파', '안이', '안썬', '녕파', '녕이', '녕썬']\n",
      "['ㄱㄹ', 'ㄱㅁ', 'ㄱㅂ', 'ㄱㅅ', 'ㄴㄹ', 'ㄴㅁ', 'ㄴㅂ', 'ㄴㅅ', 'ㄷㄹ', 'ㄷㅁ', 'ㄷㅂ', 'ㄷㅅ', 'ㄹㄹ', 'ㄹㅁ', 'ㄹㅂ', 'ㄹㅅ']\n",
      "['ㄱㄹ', 'ㄱㅁ', 'ㄱㅂ', 'ㄱㅅ', 'ㄴㄹ', 'ㄴㅁ', 'ㄴㅂ', 'ㄴㅅ', 'ㄷㄹ', 'ㄷㅁ', 'ㄷㅂ', 'ㄷㅅ', 'ㄹㅁ', 'ㄹㅂ', 'ㄹㅅ']\n"
     ]
    }
   ],
   "source": [
    "# nested for loop \n",
    "# 두개로 연결된 for \n",
    "w_1 = '안녕'\n",
    "w_2 = '파이썬'\n",
    "res = [i+j for i in w_1 for j in w_2]\n",
    "print(res)\n",
    "\n",
    "# nested for loop + if 문\n",
    "c_1 = ['ㄱ','ㄴ','ㄷ','ㄹ']\n",
    "c_2 = ['ㄹ','ㅁ','ㅂ','ㅅ']\n",
    "resu = [i+j for i in c_1 for j in c_2]\n",
    "resul = [i+j for i in c_1 for j in c_2 if not(i==j)]\n",
    "result.sort()\n",
    "print(resu)\n",
    "print(resul) # ㄹㄹ 없음"
   ]
  },
  {
   "cell_type": "code",
   "execution_count": 29,
   "metadata": {},
   "outputs": [
    {
     "name": "stdout",
     "output_type": "stream",
     "text": [
      "['복잡한', '것', '보다', '심플한게', '더', '좋다']\n",
      "['구잡한', 3]\n",
      "['것', 1]\n",
      "['보다', 2]\n",
      "['심플한게', 4]\n",
      "['더', 1]\n",
      "['좋다', 2]\n"
     ]
    }
   ],
   "source": [
    "# split + list comprehension\n",
    "sentence = '복잡한 것 보다 심플한게 더 좋다'.split()\n",
    "print(sentence)\n",
    "\n",
    "result = [[s.replace('복','구'), len(s)]for s in sentence]\n",
    "for i in result:\n",
    "    print(i)"
   ]
  },
  {
   "cell_type": "markdown",
   "metadata": {},
   "source": [
    "### Enumerate & zip\n",
    "> enumerate: <br>\n",
    "열거하다라는 뜻으로 리스트가 있는 경우 순서와 리스트의 값을 전달하는 기능을 가짐 <br>\n",
    "순서가 있는 자료형을 입력으로 받아 인덱스 값을 포함하는 객체를 리턴함 <br>\n",
    "보통 for문과 함께 자주 사용됨\n",
    "\n",
    "> zip: <br>\n",
    "동일한 개수로 이루어진 자료형을 묶어주는 역할을 하는 함수"
   ]
  },
  {
   "cell_type": "code",
   "execution_count": 48,
   "metadata": {},
   "outputs": [
    {
     "name": "stdout",
     "output_type": "stream",
     "text": [
      "[('가', '라'), ('나', '마'), ('다', '바')]\n",
      "가 라\n",
      "나 마\n",
      "다 바\n",
      "(5, 55, 123) (6, 68, 234) (7, 79, 456)\n",
      "[183, 308, 542]\n",
      "0 ㄱ1 ㄹ4\n",
      "1 ㄴ2 ㅁ5\n",
      "2 ㄷ3 ㅂ6\n"
     ]
    }
   ],
   "source": [
    "# zip \n",
    "a = ['가','나','다']\n",
    "b = ['라','마','바']\n",
    "z = list(zip(a,b)) # 그냥 zip을 선언하면 할당위치만 알려줌\n",
    "print(z)\n",
    "\n",
    "# for + zip \n",
    "for c,d in zip(a,b):\n",
    "    print(c,d)\n",
    "    \n",
    "# list comprehension + zip \n",
    "a,b,c= zip((5,6,7),(55,68,79),(123,234,456))\n",
    "print(a,b,c)\n",
    "print([sum(x) for x in zip((5,6,7),(55,68,79),(123,234,456))])\n",
    "\n",
    "# enumerate + zip \n",
    "e = ['ㄱ1','ㄴ2','ㄷ3']\n",
    "f = ['ㄹ4','ㅁ5','ㅂ6']\n",
    "for i, (g,h) in enumerate(zip(e,f)):\n",
    "    print(i,g,h)"
   ]
  },
  {
   "cell_type": "markdown",
   "metadata": {},
   "source": [
    "### Lambda & MapReduce\n",
    "> lambda: <br>\n",
    "함수 이름 없이, 함수처럼 쓸 수 있는 익명함수 <br>\n",
    "python 3부터는 권장하지 않지만 여전히 많이 쓰임(pandas에서 많이 씀)\n",
    "\n",
    "> Mapreduce: <br>\n",
    "map: 시퀀스 자료형 각 요소에 동일한 함수를 적용함 <br>\n",
    "reduce: list에 똑같은 함수를 적용해서 통합"
   ]
  },
  {
   "cell_type": "code",
   "execution_count": 55,
   "metadata": {},
   "outputs": [
    {
     "name": "stdout",
     "output_type": "stream",
     "text": [
      "-1\n",
      "[2, 4, 6, 8]\n"
     ]
    }
   ],
   "source": [
    "# labda\n",
    "p = lambda x,y: x-y\n",
    "print(p(5,6))\n",
    "\n",
    "# map \n",
    "seq = [1,2,3,4]\n",
    "f = lambda x: x*2\n",
    "print(list(map(f,seq))) # 그냥 map을 선언하면 할당 위치값이 나옴"
   ]
  },
  {
   "cell_type": "code",
   "execution_count": 57,
   "metadata": {},
   "outputs": [
    {
     "data": {
      "text/plain": [
       "[1, 4, 3, 8]"
      ]
     },
     "execution_count": 57,
     "metadata": {},
     "output_type": "execute_result"
    }
   ],
   "source": [
    "list(map(\n",
    "    lambda x: x*2 if x%2==0 else x,\n",
    "    seq\n",
    "))"
   ]
  },
  {
   "cell_type": "code",
   "execution_count": 61,
   "metadata": {},
   "outputs": [
    {
     "name": "stdout",
     "output_type": "stream",
     "text": [
      "120\n",
      "5040\n"
     ]
    }
   ],
   "source": [
    "# reduce \n",
    "from functools import reduce\n",
    "print(reduce(lambda x,y:x*y, [1,2,3,4,5])) # 5!\n",
    "\n",
    "def factorial(n):\n",
    "    return reduce(\n",
    "            lambda x,y:x*y, range(1,n+1))\n",
    "print(factorial(7))"
   ]
  },
  {
   "cell_type": "markdown",
   "metadata": {},
   "source": [
    "### Asterisk\n",
    " ' * ' 는 여러 개의 인수를 받을 때, keyword 인수를 받을 때 사용하는 표시 <br>\n",
    "단순 곱셈, 제곱연산, 가변인자 활용 등 다양한게 사용됨 <br>\n",
    "\n",
    "#### unpacking a container \n",
    "- tuple, dict 등 자료형에 들어 있는 값을 unpacking\n",
    "- 함수의 입력값, zip 등에 유용하게 사용가능"
   ]
  },
  {
   "cell_type": "code",
   "execution_count": 25,
   "metadata": {},
   "outputs": [
    {
     "name": "stdout",
     "output_type": "stream",
     "text": [
      "1 (2, 3, 4, 5)\n",
      "<class 'tuple'>\n",
      "1 {'b': 2, 'c': 3, 'd': 4, 'e': 5, 'f': 6}\n",
      "<class 'dict'>\n"
     ]
    }
   ],
   "source": [
    "# *args: *arguments의 줄임말, 여러 개의 인자를 함수로 받고자 할 때\n",
    "def a_test(a,*args):\n",
    "    print(a, args)\n",
    "    print(type(args))\n",
    "a_test(1,2,3,4,5)\n",
    "\n",
    "\"\"\" \n",
    "** kwargs: keyword argument 줄임말 \n",
    "(키워드 = 특정 값)형태로 함수를 호출할 수 있다. \n",
    "딕셔너리 형태로 함수 내부로 전달\n",
    "\"\"\"\n",
    "def aa_test(a, **kargs):\n",
    "    print(a, kargs)\n",
    "    print(type(kargs))\n",
    "aa_test(1,b=2,c=3,d=4,e=5,f=6)"
   ]
  },
  {
   "cell_type": "code",
   "execution_count": 26,
   "metadata": {},
   "outputs": [
    {
     "name": "stdout",
     "output_type": "stream",
     "text": [
      "1 (2, 3, 4, 5, 6)\n",
      "<class 'tuple'>\n",
      "1 2 3 4 5 6\n",
      "<class 'tuple'>\n"
     ]
    }
   ],
   "source": [
    "# unpacking a container\n",
    "def al_test(a,*args):\n",
    "    print(a, args[0])\n",
    "    print(type(args))\n",
    "al_test(1,(2,3,4,5,6))\n",
    "\n",
    "def af_test(a, args):\n",
    "    print(a, *args)\n",
    "    print(type(args))\n",
    "af_test(1,(2,3,4,5,6))"
   ]
  },
  {
   "cell_type": "code",
   "execution_count": 35,
   "metadata": {},
   "outputs": [
    {
     "name": "stdout",
     "output_type": "stream",
     "text": [
      "1:[1, 2][3, 4][5, 6]\n",
      "2:[1, 2][3, 4][5, 6]\n",
      "for:9\n",
      "for:12\n",
      "az_test:10\n"
     ]
    }
   ],
   "source": [
    "# unpacking a container\n",
    "a,b,c = ([1,2],[3,4],[5,6])\n",
    "print(\"1:{}{}{}\".format(a,b,c))\n",
    "\n",
    "data = ([1,2],[3,4],[5,6])\n",
    "print(\"2:{}{}{}\".format(*data))\n",
    "\n",
    "for data in zip(*([1,2],[3,4],[5,6])):\n",
    "    print(\"for:{}\".format(sum(data)))\n",
    "\n",
    "def az_test(a,b,c,d,e=0):\n",
    "    print(\"az_test:{}\".format(a,b,c,d))\n",
    "    \n",
    "d_data = {\"d\":1,\"c\":2,\"b\":3}\n",
    "az_test(10, **d_data)"
   ]
  },
  {
   "cell_type": "markdown",
   "metadata": {},
   "source": [
    "### Data structure\n",
    "collection: list, tuple, dict에 대한 python built-in 확장 자료 구조\n",
    "> 편의성, 실행 효율 등을 제공 "
   ]
  },
  {
   "cell_type": "code",
   "execution_count": 45,
   "metadata": {},
   "outputs": [
    {
     "name": "stdout",
     "output_type": "stream",
     "text": [
      "2:deque([10])\n",
      "3:deque([10])\n",
      "4:[10]\n",
      "5:deque([10, 5, 6, 7])\n",
      "6:deque([7, 6, 5, 10, 5, 6, 7])\n"
     ]
    },
    {
     "name": "stderr",
     "output_type": "stream",
     "text": [
      "C:\\Users\\user\\Anaconda3\\lib\\site-packages\\ipykernel_launcher.py:31: DeprecationWarning: time.clock has been deprecated in Python 3.3 and will be removed from Python 3.8: use time.perf_counter or time.process_time instead\n",
      "C:\\Users\\user\\Anaconda3\\lib\\site-packages\\ipykernel_launcher.py:37: DeprecationWarning: time.clock has been deprecated in Python 3.3 and will be removed from Python 3.8: use time.perf_counter or time.process_time instead\n",
      "C:\\Users\\user\\Anaconda3\\lib\\site-packages\\ipykernel_launcher.py:40: DeprecationWarning: time.clock has been deprecated in Python 3.3 and will be removed from Python 3.8: use time.perf_counter or time.process_time instead\n"
     ]
    },
    {
     "name": "stdout",
     "output_type": "stream",
     "text": [
      "7:0.6022886999999173\n",
      "9357.0656932\n"
     ]
    },
    {
     "name": "stderr",
     "output_type": "stream",
     "text": [
      "C:\\Users\\user\\Anaconda3\\lib\\site-packages\\ipykernel_launcher.py:46: DeprecationWarning: time.clock has been deprecated in Python 3.3 and will be removed from Python 3.8: use time.perf_counter or time.process_time instead\n"
     ]
    }
   ],
   "source": [
    "\"\"\"\n",
    "deque: \n",
    "stack(FILO)과 queue(FIFO) 지원\n",
    "LIFO: Last In First Out (後入先出)\n",
    "FIFO: First In First Out (先入先出)\n",
    "- rotate, reverse 등 *linked list의 특성을 지원함 \n",
    "- 기존 list 형태의 함수를 모두 지원함 \n",
    "- deque는 rlwhs list보다 효율적인 자료구조를 제공\n",
    "- 효율적인 메모리 구조로 처리 속도 향상\n",
    "*: element와 element 간의 연결을 이용하여 리스트를 구현하는 것\n",
    "\"\"\"\n",
    "\n",
    "from collections import deque\n",
    "import time \n",
    "\n",
    "de_list = deque()\n",
    "\n",
    "de_list.appendleft(10) # stack에서 왼쪽으로(맨 끝 값을 왼쪽으로)\n",
    "print(\"2:{}\".format(de_list))\n",
    "\n",
    "de_list.rotate(2)\n",
    "print(\"3:{}\".format(de_list))\n",
    "print(\"4:{}\".format(list(reversed(de_list)))) # 거꾸로 돌려줌\n",
    "\n",
    "de_list.extend([5,6,7]) \n",
    "print(\"5:{}\".format(de_list))\n",
    "\n",
    "de_list.extendleft([5,6,7]) # stack을 왼쪽으로 붙혀줌\n",
    "print(\"6:{}\".format(de_list))\n",
    "\n",
    "st_time = time.clock()\n",
    "de_list = deque()\n",
    "for i in range(1000):\n",
    "    for i in range(1000):\n",
    "        de_list.append(i)\n",
    "        de_list.pop()\n",
    "print(\"7:{}\".format(time.clock()-st_time, \"seconds\"))\n",
    "\n",
    "# general list \n",
    "sta_time = time.clock()\n",
    "just_list = []\n",
    "for i in range(1000):\n",
    "    for i in  range(1000):\n",
    "        just_list.append(i)\n",
    "        just_list.pop()\n",
    "print(time.clock())"
   ]
  },
  {
   "cell_type": "code",
   "execution_count": 19,
   "metadata": {},
   "outputs": [
    {
     "name": "stdout",
     "output_type": "stream",
     "text": [
      "x 100\n",
      "y 200\n",
      "z 300\n",
      "l 500\n",
      "('l', 500)\n",
      "('x', 100)\n",
      "('y', 200)\n",
      "('z', 300)\n",
      "x 100\n",
      "y 200\n",
      "z 300\n",
      "l 500\n"
     ]
    }
   ],
   "source": [
    "\"\"\"\n",
    "OrderedDict\n",
    ": dict와 달리, 데이터를 입력한 순서대로 dict를 반환함\n",
    "- dict type의 값을, value 또는 key값으로 정렬할 때 사용 가능\n",
    "\"\"\"\n",
    "from collections import OrderedDict\n",
    "\n",
    "l = {'x':100, 'y':200, 'z':300, 'l':500}\n",
    "d=OrderedDict({'x':100, 'y':200, 'z':300, 'l':500})\n",
    "\n",
    "for k,v in d.items():\n",
    "    print(k,v)\n",
    "\n",
    "# value 또는 key값으로 정렬\n",
    "for k,v in OrderedDict(sorted(d.items(), key=lambda t: t[0])).items():\n",
    "    print(\"{}\".format((k,v))) # 숫자가 큰 것부터 \n",
    "\n",
    "for k,v in OrderedDict(sorted(d.items(),key=lambda t:t[1])).items():\n",
    "    print(\"{} {}\".format(k,v)) # 숫자가 작은 것부터"
   ]
  },
  {
   "cell_type": "code",
   "execution_count": 23,
   "metadata": {},
   "outputs": [
    {
     "name": "stdout",
     "output_type": "stream",
     "text": [
      "0\n",
      "고급 1\n",
      "프로그래밍 1\n",
      "언어로, 1\n",
      "플랫폼에 1\n",
      "독립적이며 1\n",
      "인터프리터식, 1\n",
      "객체지향적, 1\n",
      "동적 1\n",
      "타이핑 1\n",
      "대화형 1\n",
      "언어이다. 1\n"
     ]
    }
   ],
   "source": [
    "\"\"\"\n",
    "defaultdict\n",
    ": dict type의 값에 기본 값을 지정, 신규값 생성시 사용하는 방법\n",
    "\"\"\"\n",
    "from collections import defaultdict\n",
    "d = defaultdict(object) # default dictionary 생성\n",
    "d = defaultdict(lambda: 0) # default 값을 0으로 설정\n",
    "print(d[\"first\"])\n",
    "\n",
    "# 단어 셀 때 유용함 \n",
    "tt = \"고급 프로그래밍 언어로, 플랫폼에 독립적이며 인터프리터식, 객체지향적, 동적 타이핑 대화형 언어이다.\".split()\n",
    "wc = defaultdict(object)\n",
    "wc = defaultdict(lambda: 0)\n",
    "for w in tt: \n",
    "    wc[w] += 1\n",
    "for i,v in OrderedDict(sorted(\n",
    "        wc.items(), key=lambda t: t[1],\n",
    "        reverse=True)).items():\n",
    "    print(i,v)"
   ]
  },
  {
   "cell_type": "code",
   "execution_count": 40,
   "metadata": {},
   "outputs": [
    {
     "name": "stdout",
     "output_type": "stream",
     "text": [
      "Counter({'ㅂ': 2, 'ㄷ': 2, 'ㅈ': 1, 'ㅎ': 1, 'ㄱ': 1, 'ㅇ': 1, 'ㅌ': 1, 'ㅅ': 1})\n",
      "Counter({'가고싶다': 4, '집에': 3})\n",
      "['집에', '집에', '집에', '가고싶다', '가고싶다', '가고싶다', '가고싶다']\n",
      "Counter({'전주': 4, '마산': 3, '파주': 2})\n",
      "['마산', '마산', '마산', '파주', '파주', '전주', '전주', '전주', '전주']\n",
      "Counter({'마산': 8, '전주': 4, '파주': 2})\n",
      "Counter({'고급': 1, '프로그래밍': 1, '언어로,': 1, '플랫폼에': 1, '독립적이며': 1, '인터프리터식,': 1, '객체지향적,': 1, '동적': 1, '타이핑': 1, '대화형': 1, '언어이다.': 1})\n",
      "1\n"
     ]
    }
   ],
   "source": [
    "\"\"\"\n",
    "counter\n",
    ": sequence type의 자료 요소들의 갯수를 dict형태로 반환\n",
    "\"\"\"\n",
    "from collections import Counter\n",
    "c = Counter()\n",
    "c = Counter(\"ㅈㅂㄷㅎㄱㄷㅇㅌㅂㅅ\")\n",
    "print(c)\n",
    "\n",
    "# dict type, keyword parameter 등도 모두 처리 가능 \n",
    "cc = Counter({'집에':3, '가고싶다':4})\n",
    "print(cc)\n",
    "print(list(cc.elements()))\n",
    "\n",
    "nomad = Counter(마산=3, 파주=2, 전주=4)\n",
    "print(nomad)\n",
    "print(list(nomad.elements()))\n",
    "\n",
    "# set연산들을 지원함 \n",
    "younger = Counter(마산=5)\n",
    "print(younger+nomad)\n",
    "\"\"\"\n",
    "numpy 연산\n",
    "add(): 합 \n",
    "subtract(): 차\n",
    "multiply(): 곱\n",
    "divide(): 나눗셈\n",
    "\"\"\"\n",
    "# word counter 지원 \n",
    "print(Counter(tt))\n",
    "print(Counter(tt)[\"대화형\"])"
   ]
  },
  {
   "cell_type": "code",
   "execution_count": 44,
   "metadata": {},
   "outputs": [
    {
     "name": "stdout",
     "output_type": "stream",
     "text": [
      "33\n",
      "11 22\n",
      "33\n",
      "(11, 22)\n"
     ]
    }
   ],
   "source": [
    "\"\"\"\n",
    "namedtuple\n",
    ": tuple 형태로 data구조체를 저장하는 방법 \n",
    ": 저장되는 data의 변수를 dict에 지정해서 저장 \n",
    "\"\"\"\n",
    "from collections import namedtuple\n",
    "po = namedtuple('po',['x','y'])\n",
    "p = po(11,y=22)\n",
    "print(p[0]+p[1])\n",
    "x,y=p\n",
    "print(x,y)\n",
    "print(p.x+p.y)\n",
    "print(tuple(po(x=11,y=22)))"
   ]
  }
 ],
 "metadata": {
  "kernelspec": {
   "display_name": "Python 3",
   "language": "python",
   "name": "python3"
  },
  "language_info": {
   "codemirror_mode": {
    "name": "ipython",
    "version": 3
   },
   "file_extension": ".py",
   "mimetype": "text/x-python",
   "name": "python",
   "nbconvert_exporter": "python",
   "pygments_lexer": "ipython3",
   "version": "3.7.7"
  }
 },
 "nbformat": 4,
 "nbformat_minor": 4
}
